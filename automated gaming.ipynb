{
 "cells": [
  {
   "cell_type": "code",
   "execution_count": 1,
   "id": "fluid-reserve",
   "metadata": {},
   "outputs": [],
   "source": [
    "import pyautogui, time"
   ]
  },
  {
   "cell_type": "code",
   "execution_count": 2,
   "id": "iraqi-coverage",
   "metadata": {},
   "outputs": [],
   "source": [
    "from itertools import combinations"
   ]
  },
  {
   "cell_type": "code",
   "execution_count": 3,
   "id": "meaningful-european",
   "metadata": {},
   "outputs": [],
   "source": [
    "pyautogui.FAILSAFE = True"
   ]
  },
  {
   "cell_type": "code",
   "execution_count": 4,
   "id": "norwegian-dublin",
   "metadata": {},
   "outputs": [],
   "source": [
    "pyautogui.hotkey('win','r')\n",
    "time.sleep(0.5)\n",
    "pyautogui.typewrite('chrome')\n",
    "time.sleep(1)\n",
    "pyautogui.press('enter')\n",
    "\n",
    "#pyautogui.click(241,974)\n",
    "#pyautogui.typewrite('https://html5games.com/Game/Onet-Connect-Classic/d6173a60-1b41-4b34-b4c3-aa4c5fc9ce35')"
   ]
  },
  {
   "cell_type": "code",
   "execution_count": 5,
   "id": "consistent-palestinian",
   "metadata": {},
   "outputs": [],
   "source": [
    "pyautogui.typewrite('https://html5games.com/Game/Onet-Connect-Classic/d6173a60-1b41-4b34-b4c3-aa4c5fc9ce35')\n",
    "pyautogui.press('enter')\n"
   ]
  },
  {
   "cell_type": "code",
   "execution_count": 6,
   "id": "adequate-recording",
   "metadata": {},
   "outputs": [],
   "source": [
    "time.sleep(3)\n",
    "pyautogui.click(961,654)#ok\n",
    "time.sleep(3)\n",
    "pyautogui.click(936,655)#play\n",
    "time.sleep(5)\n",
    "pyautogui.click(944,648)\n",
    "time.sleep(8)\n",
    "pyautogui.click(1676,949)\n",
    "pyautogui.click(960,689)\n",
    "time.sleep(1)\n",
    "pyautogui.click(963,681)"
   ]
  },
  {
   "cell_type": "code",
   "execution_count": 7,
   "id": "fitting-delta",
   "metadata": {},
   "outputs": [],
   "source": [
    "time.sleep(3)\n",
    "pyautogui.click(960,689)\n",
    "time.sleep(1)\n",
    "pyautogui.click(963,681)"
   ]
  },
  {
   "cell_type": "code",
   "execution_count": 8,
   "id": "muslim-bronze",
   "metadata": {},
   "outputs": [],
   "source": [
    "def click_all_position(pic,se):\n",
    "    for i in range(3): # 最多偵查 20 次，如果沒有 pic 就該 return None\n",
    "        loc = pyautogui.locateOnScreen(pic, confidence=0.95)\n",
    "        if loc != None: # 如果畫面上有 pic 那我們就進入下一步\n",
    "            break\n",
    "        time.sleep(0.1)                       # 停 0.1 秒\n",
    "    if loc == None:\n",
    "        return None\n",
    "    all_pairs_loc = combinations(pyautogui.locateAllOnScreen(pic, confidence=se), 2)\n",
    "    for pair in all_pairs_loc:\n",
    "        loc_1, loc_2 = pair\n",
    "        #print(pic, 'is at', loc_1, 'and', loc_2)\n",
    "        center = pyautogui.center(loc_1)\n",
    "        pyautogui.click(center) \n",
    "        center = pyautogui.center(loc_2)\n",
    "        pyautogui.click(center)\n",
    "    "
   ]
  },
  {
   "cell_type": "code",
   "execution_count": 9,
   "id": "romantic-shift",
   "metadata": {},
   "outputs": [
    {
     "data": {
      "text/plain": [
       "Point(x=963, y=681)"
      ]
     },
     "execution_count": 9,
     "metadata": {},
     "output_type": "execute_result"
    }
   ],
   "source": [
    "pyautogui.position()\n"
   ]
  },
  {
   "cell_type": "code",
   "execution_count": 10,
   "id": "growing-tenant",
   "metadata": {},
   "outputs": [],
   "source": [
    "for i in range(8):\n",
    "    click_all_position('blue.png',.99)\n",
    "    click_all_position('chocolate.png',.95)\n",
    "    click_all_position('circlegreen.png',.99)\n",
    "    click_all_position('bluecake.png',.99)\n",
    "    click_all_position('bluestar.png',.95)\n",
    "    click_all_position('cake.png',.95)\n",
    "    click_all_position('cookies.png',.99)\n",
    "    click_all_position('crispy.png',.99)\n",
    "    click_all_position('croissants.png',.99)\n",
    "    click_all_position('donuts.png',.98)\n",
    "    click_all_position('egg.png',.99)\n",
    "    click_all_position('green.png',.98)\n",
    "    click_all_position('ice.png',.98)\n",
    "    click_all_position('love.png',.98)\n",
    "    click_all_position('pudding.png',.98)\n",
    "    click_all_position('red.png',.98)\n",
    "    click_all_position('scone.png',.98)\n",
    "    click_all_position('star.png',.98)\n",
    "    click_all_position('waffles.png',.98)\n",
    "    click_all_position('whitered.png',.98)\n",
    "    pyautogui.click(1563,145)\n"
   ]
  },
  {
   "cell_type": "code",
   "execution_count": null,
   "id": "nominated-medication",
   "metadata": {},
   "outputs": [],
   "source": []
  }
 ],
 "metadata": {
  "kernelspec": {
   "display_name": "Python 3",
   "language": "python",
   "name": "python3"
  },
  "language_info": {
   "codemirror_mode": {
    "name": "ipython",
    "version": 3
   },
   "file_extension": ".py",
   "mimetype": "text/x-python",
   "name": "python",
   "nbconvert_exporter": "python",
   "pygments_lexer": "ipython3",
   "version": "3.9.2"
  }
 },
 "nbformat": 4,
 "nbformat_minor": 5
}
